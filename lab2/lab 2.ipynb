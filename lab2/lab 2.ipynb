{
 "cells": [
  {
   "cell_type": "code",
   "execution_count": 2,
   "metadata": {},
   "outputs": [
    {
     "name": "stderr",
     "output_type": "stream",
     "text": [
      "/home/lplab/anaconda3/lib/python3.7/site-packages/pyspark/context.py:317: FutureWarning: Python 3.7 support is deprecated in Spark 3.4.\n",
      "  warnings.warn(\"Python 3.7 support is deprecated in Spark 3.4.\", FutureWarning)\n"
     ]
    },
    {
     "name": "stdout",
     "output_type": "stream",
     "text": [
      "Original DataFrame:\n",
      "+---+-----+---+-------------+\n",
      "| id| name|age|         city|\n",
      "+---+-----+---+-------------+\n",
      "|  1|Alice| 29|     New York|\n",
      "|  2|  Bob| 31|San Francisco|\n",
      "|  3|Cathy| 23|  Los Angeles|\n",
      "|  4|David| 45|      Chicago|\n",
      "|  5|  Eva| 35|       Boston|\n",
      "+---+-----+---+-------------+\n",
      "\n",
      "Filtered DataFrame (age > 30):\n",
      "+---+-----+---+-------------+\n",
      "| id| name|age|         city|\n",
      "+---+-----+---+-------------+\n",
      "|  2|  Bob| 31|San Francisco|\n",
      "|  4|David| 45|      Chicago|\n",
      "|  5|  Eva| 35|       Boston|\n",
      "+---+-----+---+-------------+\n",
      "\n",
      "Transformed DataFrame with 'is_adult' column:\n",
      "+---+-----+---+-------------+-----------+\n",
      "| id| name|age|         city|is_above_30|\n",
      "+---+-----+---+-------------+-----------+\n",
      "|  1|Alice| 29|     New York|      false|\n",
      "|  2|  Bob| 31|San Francisco|       true|\n",
      "|  3|Cathy| 23|  Los Angeles|      false|\n",
      "|  4|David| 45|      Chicago|       true|\n",
      "|  5|  Eva| 35|       Boston|       true|\n",
      "+---+-----+---+-------------+-----------+\n",
      "\n"
     ]
    }
   ],
   "source": [
    "from pyspark.sql import SparkSession\n",
    "from pyspark.sql.functions import col, when\n",
    "\n",
    "spark = SparkSession.builder.appName(\"DataFrame Transformations\").getOrCreate()\n",
    "\n",
    "data = [\n",
    "    (1, \"Alice\", 29, \"New York\"),\n",
    "    (2, \"Bob\", 31, \"San Francisco\"),\n",
    "    (3, \"Cathy\", 23, \"Los Angeles\"),\n",
    "    (4, \"David\", 45, \"Chicago\"),    \n",
    "    (5, \"Eva\", 35, \"Boston\")\n",
    "]\n",
    "\n",
    "\n",
    "columns = [\"id\", \"name\", \"age\", \"city\"]\n",
    "df = spark.createDataFrame(data, columns)\n",
    "print(\"Original DataFrame:\")\n",
    "df.show()\n",
    "\n",
    "filtered_df = df.filter(col(\"age\") > 30)\n",
    "print(\"Filtered DataFrame (age > 30):\")\n",
    "filtered_df.show()\n",
    "\n",
    "\n",
    "transformed_df = df.withColumn(\"is_above_30\", when(col(\"age\") >= 30, True).otherwise(False))\n",
    "print(\"Transformed DataFrame with 'is_adult' column:\")\n",
    "transformed_df.show()\n",
    "\n",
    "spark.stop()\n"
   ]
  },
  {
   "cell_type": "code",
   "execution_count": 3,
   "metadata": {},
   "outputs": [
    {
     "name": "stderr",
     "output_type": "stream",
     "text": [
      "/home/lplab/anaconda3/lib/python3.7/site-packages/pyspark/context.py:317: FutureWarning: Python 3.7 support is deprecated in Spark 3.4.\n",
      "  warnings.warn(\"Python 3.7 support is deprecated in Spark 3.4.\", FutureWarning)\n"
     ]
    },
    {
     "name": "stdout",
     "output_type": "stream",
     "text": [
      "+---+----------+---------+------+\n",
      "| id|first_name|last_name|salary|\n",
      "+---+----------+---------+------+\n",
      "|  1|      John|      Doe|  5000|\n",
      "|  2|      Jane|    Smith|  6000|\n",
      "|  3|       Sam|    Brown|  7000|\n",
      "|  4|      Lisa|   Wilson|  8000|\n",
      "|  5|      Paul|    Jones|  9000|\n",
      "+---+----------+---------+------+\n",
      "\n",
      "Number of rows in the DataFrame: 5\n",
      "+----------+------+\n",
      "|first_name|salary|\n",
      "+----------+------+\n",
      "|      John|  5000|\n",
      "|      Jane|  6000|\n",
      "|       Sam|  7000|\n",
      "|      Lisa|  8000|\n",
      "|      Paul|  9000|\n",
      "+----------+------+\n",
      "\n",
      "+---+----------+---------+------+\n",
      "| id|first_name|last_name|salary|\n",
      "+---+----------+---------+------+\n",
      "|  1|      John|      Doe|  5000|\n",
      "|  2|      Jane|    Smith|  6000|\n",
      "|  3|       Sam|    Brown|  7000|\n",
      "+---+----------+---------+------+\n",
      "only showing top 3 rows\n",
      "\n",
      "+-------+------------------+----------+---------+------------------+\n",
      "|summary|                id|first_name|last_name|            salary|\n",
      "+-------+------------------+----------+---------+------------------+\n",
      "|  count|                 5|         5|        5|                 5|\n",
      "|   mean|               3.0|      null|     null|            7000.0|\n",
      "| stddev|1.5811388300841898|      null|     null|1581.1388300841897|\n",
      "|    min|                 1|      Jane|    Brown|              5000|\n",
      "|    max|                 5|       Sam|   Wilson|              9000|\n",
      "+-------+------------------+----------+---------+------------------+\n",
      "\n"
     ]
    }
   ],
   "source": [
    "from pyspark.sql import SparkSession\n",
    "\n",
    "spark = SparkSession.builder.appName(\"DataFrame Actions\").getOrCreate()\n",
    "\n",
    "data = [\n",
    "    (1, \"John\", \"Doe\", 5000),\n",
    "    (2, \"Jane\", \"Smith\", 6000),\n",
    "    (3, \"Sam\", \"Brown\", 7000),\n",
    "    (4, \"Lisa\", \"Wilson\", 8000),\n",
    "    (5, \"Paul\", \"Jones\", 9000)\n",
    "]\n",
    "\n",
    "columns = [\"id\", \"first_name\", \"last_name\", \"salary\"]\n",
    "\n",
    "df = spark.createDataFrame(data, columns)\n",
    "df.show()\n",
    "\n",
    "row_count = df.count()\n",
    "print(f\"Number of rows in the DataFrame: {row_count}\")\n",
    "\n",
    "df.select(\"first_name\", \"salary\").show()\n",
    "df.show(3)\n",
    "df.describe().show()\n",
    "spark.stop()\n"
   ]
  },
  {
   "cell_type": "code",
   "execution_count": 4,
   "metadata": {},
   "outputs": [
    {
     "name": "stderr",
     "output_type": "stream",
     "text": [
      "/home/lplab/anaconda3/lib/python3.7/site-packages/pyspark/context.py:317: FutureWarning: Python 3.7 support is deprecated in Spark 3.4.\n",
      "  warnings.warn(\"Python 3.7 support is deprecated in Spark 3.4.\", FutureWarning)\n"
     ]
    },
    {
     "name": "stdout",
     "output_type": "stream",
     "text": [
      "Total salary: 35000\n",
      "Average salary: 7000.0\n"
     ]
    }
   ],
   "source": [
    "from pyspark.sql import SparkSession\n",
    "from pyspark.sql.functions import sum, avg\n",
    "\n",
    "spark = SparkSession.builder \\\n",
    "    .appName(\"DataFrame Aggregations\") \\\n",
    "    .getOrCreate()\n",
    "\n",
    "data = [\n",
    "    (1, \"John\", \"Doe\", 5000),\n",
    "    (2, \"Jane\", \"Smith\", 6000),\n",
    "    (3, \"Sam\", \"Brown\", 7000),\n",
    "    (4, \"Lisa\", \"Wilson\", 8000),\n",
    "    (5, \"Paul\", \"Jones\", 9000)\n",
    "]\n",
    "\n",
    "columns = [\"id\", \"first_name\", \"last_name\", \"salary\"]\n",
    "\n",
    "df = spark.createDataFrame(data, columns)\n",
    "\n",
    "total_salary = df.agg(sum(\"salary\")).collect()[0][0]\n",
    "print(f\"Total salary: {total_salary}\")\n",
    "\n",
    "average_salary = df.agg(avg(\"salary\")).collect()[0][0]\n",
    "print(f\"Average salary: {average_salary}\")\n",
    "\n",
    "spark.stop()\n"
   ]
  },
  {
   "cell_type": "code",
   "execution_count": 9,
   "metadata": {},
   "outputs": [],
   "source": [
    "from pyspark.sql import SparkSession\n",
    "\n",
    "spark = SparkSession.builder.appName(\"Write DataFrame to CSV\").getOrCreate()\n",
    "\n",
    "data = [\n",
    "    (1, \"John\", \"Doe\", 5000),\n",
    "    (2, \"Jane\", \"Smith\", 6000),\n",
    "    (3, \"Sam\", \"Brown\", 7000),\n",
    "    (4, \"Lisa\", \"Wilson\", 8000),\n",
    "    (5, \"Paul\", \"Jones\", 9000)\n",
    "]\n",
    "\n",
    "\n",
    "columns = [\"id\", \"first_name\", \"last_name\", \"salary\"]\n",
    "df = spark.createDataFrame(data, columns)\n",
    "df.coalesce(1).write.csv(\"csvfile.csv\", header=True, mode=\"overwrite\")\n",
    "spark.stop()\n"
   ]
  },
  {
   "cell_type": "code",
   "execution_count": 11,
   "metadata": {},
   "outputs": [
    {
     "name": "stderr",
     "output_type": "stream",
     "text": [
      "/home/lplab/anaconda3/lib/python3.7/site-packages/pyspark/context.py:317: FutureWarning: Python 3.7 support is deprecated in Spark 3.4.\n",
      "  warnings.warn(\"Python 3.7 support is deprecated in Spark 3.4.\", FutureWarning)\n"
     ]
    },
    {
     "name": "stdout",
     "output_type": "stream",
     "text": [
      "+-----+-----+\n",
      "| word|count|\n",
      "+-----+-----+\n",
      "|    !|    1|\n",
      "|  lab|    2|\n",
      "|   is|    1|\n",
      "|Hello|    3|\n",
      "| This|    1|\n",
      "|     |    1|\n",
      "|    2|    1|\n",
      "+-----+-----+\n",
      "\n"
     ]
    }
   ],
   "source": [
    "from pyspark.sql import SparkSession\n",
    "from pyspark.sql.functions import explode, split, col\n",
    "\n",
    "spark = SparkSession.builder \\\n",
    "    .appName(\"WordCountFromFile\") \\\n",
    "    .getOrCreate()\n",
    "\n",
    "df = spark.read.text(\"word_count.txt\")\n",
    "\n",
    "word_counts = (df\n",
    "    .select(explode(split(col(\"value\"), \" \")).alias(\"word\"))\n",
    "    .groupBy(\"word\")\n",
    "    .count()\n",
    ")\n",
    "\n",
    "word_counts.show()\n",
    "\n",
    "spark.stop()\n"
   ]
  },
  {
   "cell_type": "code",
   "execution_count": null,
   "metadata": {},
   "outputs": [],
   "source": []
  }
 ],
 "metadata": {
  "kernelspec": {
   "display_name": "Python 3 (ipykernel)",
   "language": "python",
   "name": "python3"
  },
  "language_info": {
   "codemirror_mode": {
    "name": "ipython",
    "version": 3
   },
   "file_extension": ".py",
   "mimetype": "text/x-python",
   "name": "python",
   "nbconvert_exporter": "python",
   "pygments_lexer": "ipython3",
   "version": "3.7.0"
  }
 },
 "nbformat": 4,
 "nbformat_minor": 2
}
