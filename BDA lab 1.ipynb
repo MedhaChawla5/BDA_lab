{
 "cells": [
  {
   "cell_type": "markdown",
   "metadata": {},
   "source": [
    "# q1"
   ]
  },
  {
   "cell_type": "code",
   "execution_count": 19,
   "metadata": {},
   "outputs": [
    {
     "name": "stderr",
     "output_type": "stream",
     "text": [
      "/home/lplab/anaconda3/lib/python3.7/site-packages/pyspark/context.py:317: FutureWarning: Python 3.7 support is deprecated in Spark 3.4.\n",
      "  warnings.warn(\"Python 3.7 support is deprecated in Spark 3.4.\", FutureWarning)\n"
     ]
    },
    {
     "name": "stdout",
     "output_type": "stream",
     "text": [
      "[1, 4, 9, 16, 25]\n"
     ]
    }
   ],
   "source": [
    "from pyspark.sql import SparkSession\n",
    "\n",
    "spark = SparkSession.builder.appName(\"SquareIntegers\").getOrCreate()\n",
    "\n",
    "numbers = [1, 2, 3, 4, 5]\n",
    "numbers_rdd = spark.sparkContext.parallelize(numbers)\n",
    "\n",
    "squared_rdd = numbers_rdd.map(lambda x: x * x)\n",
    "\n",
    "squared_numbers = squared_rdd.collect()\n",
    "print(squared_numbers)\n",
    "\n",
    "spark.stop()\n"
   ]
  },
  {
   "cell_type": "markdown",
   "metadata": {},
   "source": [
    "# q2"
   ]
  },
  {
   "cell_type": "code",
   "execution_count": 7,
   "metadata": {},
   "outputs": [
    {
     "name": "stderr",
     "output_type": "stream",
     "text": [
      "/home/lplab/anaconda3/lib/python3.7/site-packages/pyspark/context.py:317: FutureWarning: Python 3.7 support is deprecated in Spark 3.4.\n",
      "  warnings.warn(\"Python 3.7 support is deprecated in Spark 3.4.\", FutureWarning)\n"
     ]
    },
    {
     "name": "stdout",
     "output_type": "stream",
     "text": [
      "Maximum no is: 67\n"
     ]
    }
   ],
   "source": [
    "from pyspark.sql import SparkSession\n",
    "\n",
    "spark = SparkSession.builder.appName(\"Maximum\").getOrCreate()\n",
    "\n",
    "nums=[5,12,45,67,2]\n",
    "nums_rdd = spark.sparkContext.parallelize(nums)\n",
    "\n",
    "maxx = nums_rdd.reduce(lambda x,y: x if x>y else y)\n",
    "print(f\"Maximum no is: {maxx}\")\n",
    "\n",
    "spark.stop()"
   ]
  },
  {
   "cell_type": "markdown",
   "metadata": {},
   "source": [
    "# q3"
   ]
  },
  {
   "cell_type": "code",
   "execution_count": 8,
   "metadata": {},
   "outputs": [
    {
     "name": "stderr",
     "output_type": "stream",
     "text": [
      "/home/lplab/anaconda3/lib/python3.7/site-packages/pyspark/context.py:317: FutureWarning: Python 3.7 support is deprecated in Spark 3.4.\n",
      "  warnings.warn(\"Python 3.7 support is deprecated in Spark 3.4.\", FutureWarning)\n"
     ]
    },
    {
     "name": "stdout",
     "output_type": "stream",
     "text": [
      "Average of the numbers is : 3.0\n"
     ]
    }
   ],
   "source": [
    "from pyspark.sql import SparkSession\n",
    "\n",
    "spark = SparkSession.builder.appName(\"Average\").getOrCreate()\n",
    "\n",
    "numbers = [1, 2, 3, 4, 5]\n",
    "numbers_rdd = spark.sparkContext.parallelize(numbers)\n",
    "\n",
    "sum_rdd = numbers_rdd.reduce(lambda x,y:x+y )\n",
    "count_rdd = numbers_rdd.count()\n",
    "avg = sum_rdd/count_rdd\n",
    "\n",
    "print(f\"Average of the numbers is : {avg}\")\n",
    "\n",
    "spark.stop()\n"
   ]
  },
  {
   "cell_type": "markdown",
   "metadata": {},
   "source": [
    "# q4"
   ]
  },
  {
   "cell_type": "code",
   "execution_count": 20,
   "metadata": {},
   "outputs": [
    {
     "name": "stderr",
     "output_type": "stream",
     "text": [
      "/home/lplab/anaconda3/lib/python3.7/site-packages/pyspark/context.py:317: FutureWarning: Python 3.7 support is deprecated in Spark 3.4.\n",
      "  warnings.warn(\"Python 3.7 support is deprecated in Spark 3.4.\", FutureWarning)\n"
     ]
    },
    {
     "name": "stdout",
     "output_type": "stream",
     "text": [
      "+-------+---------+--------------+\n",
      "|Numeric|Numeric-2|Numeric-Suffix|\n",
      "+-------+---------+--------------+\n",
      "|      1|        1|           1st|\n",
      "|      2|        2|           2nd|\n",
      "|      3|        3|           3rd|\n",
      "|      4|        4|           4th|\n",
      "|      5|        5|           5th|\n",
      "+-------+---------+--------------+\n",
      "only showing top 5 rows\n",
      "\n"
     ]
    }
   ],
   "source": [
    "from pyspark.sql import SparkSession\n",
    "\n",
    "spark = SparkSession.builder.appName(\"ReadCSV\").getOrCreate()\n",
    "csv_file_path = \"day.csv\"\n",
    "df = spark.read.csv(csv_file_path, header=True, inferSchema=True)\n",
    "\n",
    "df.show(5)\n",
    "spark.stop()\n"
   ]
  },
  {
   "cell_type": "markdown",
   "metadata": {},
   "source": [
    "# q5"
   ]
  },
  {
   "cell_type": "code",
   "execution_count": 21,
   "metadata": {},
   "outputs": [
    {
     "name": "stderr",
     "output_type": "stream",
     "text": [
      "/home/lplab/anaconda3/lib/python3.7/site-packages/pyspark/context.py:317: FutureWarning: Python 3.7 support is deprecated in Spark 3.4.\n",
      "  warnings.warn(\"Python 3.7 support is deprecated in Spark 3.4.\", FutureWarning)\n"
     ]
    },
    {
     "name": "stdout",
     "output_type": "stream",
     "text": [
      "+-------+---------+--------------+\n",
      "|Numeric|Numeric-2|Numeric-Suffix|\n",
      "+-------+---------+--------------+\n",
      "|      1|        1|           1st|\n",
      "|      2|        2|           2nd|\n",
      "|      3|        3|           3rd|\n",
      "|      4|        4|           4th|\n",
      "+-------+---------+--------------+\n",
      "only showing top 4 rows\n",
      "\n",
      "root\n",
      " |-- Numeric: integer (nullable = true)\n",
      " |-- Numeric-2: integer (nullable = true)\n",
      " |-- Numeric-Suffix: string (nullable = true)\n",
      "\n"
     ]
    }
   ],
   "source": [
    "from pyspark.sql import SparkSession\n",
    "\n",
    "spark = SparkSession.builder.appName(\"SchemaCommands\").getOrCreate()\n",
    "csv_file_path = \"day.csv\"\n",
    "df = spark.read.csv(csv_file_path, header=True, inferSchema=True)\n",
    "df.show(4)\n",
    "df.printSchema()\n",
    "\n",
    "spark.stop()\n"
   ]
  },
  {
   "cell_type": "markdown",
   "metadata": {},
   "source": [
    "# q6"
   ]
  },
  {
   "cell_type": "code",
   "execution_count": 22,
   "metadata": {},
   "outputs": [
    {
     "name": "stderr",
     "output_type": "stream",
     "text": [
      "/home/lplab/anaconda3/lib/python3.7/site-packages/pyspark/context.py:317: FutureWarning: Python 3.7 support is deprecated in Spark 3.4.\n",
      "  warnings.warn(\"Python 3.7 support is deprecated in Spark 3.4.\", FutureWarning)\n"
     ]
    },
    {
     "name": "stdout",
     "output_type": "stream",
     "text": [
      "+---------+---+\n",
      "|     name|age|\n",
      "+---------+---+\n",
      "|    Alice| 30|\n",
      "|      Bob| 45|\n",
      "|Catherine| 27|\n",
      "|    David| 22|\n",
      "|      Eva| 29|\n",
      "+---------+---+\n",
      "\n",
      "+-------+----------------+\n",
      "|summary|             age|\n",
      "+-------+----------------+\n",
      "|  count|               5|\n",
      "|   mean|            30.6|\n",
      "| stddev|8.61974477580398|\n",
      "|    min|              22|\n",
      "|    max|              45|\n",
      "+-------+----------------+\n",
      "\n"
     ]
    }
   ],
   "source": [
    "from pyspark.sql import SparkSession\n",
    "\n",
    "spark = SparkSession.builder.appName(\"SummaryStatistics\").getOrCreate()\n",
    "\n",
    "data = [(\"Alice\", 30), (\"Bob\", 45), (\"Catherine\", 27), (\"David\", 22), (\"Eva\", 29)]\n",
    "columns = [\"name\", \"age\"]\n",
    "\n",
    "df = spark.createDataFrame(data, columns)\n",
    "df.show()\n",
    "\n",
    "summary_stats = df.describe(\"age\")\n",
    "summary_stats.show()\n",
    "#extended_summary_stats = df.summary(\"count\", \"mean\", \"stddev\", \"min\", \"25%\", \"50%\", \"75%\", \"max\")\n",
    "#extended_summary_stats.show()\n",
    "\n",
    "spark.stop()\n"
   ]
  },
  {
   "cell_type": "code",
   "execution_count": null,
   "metadata": {},
   "outputs": [],
   "source": []
  }
 ],
 "metadata": {
  "kernelspec": {
   "display_name": "Python 3 (ipykernel)",
   "language": "python",
   "name": "python3"
  },
  "language_info": {
   "codemirror_mode": {
    "name": "ipython",
    "version": 3
   },
   "file_extension": ".py",
   "mimetype": "text/x-python",
   "name": "python",
   "nbconvert_exporter": "python",
   "pygments_lexer": "ipython3",
   "version": "3.7.0"
  }
 },
 "nbformat": 4,
 "nbformat_minor": 2
}
